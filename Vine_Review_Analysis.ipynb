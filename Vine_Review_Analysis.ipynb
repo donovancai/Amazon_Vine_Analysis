{
  "nbformat": 4,
  "nbformat_minor": 0,
  "metadata": {
    "colab": {
      "name": "Vine_Review_Analysis.ipynb",
      "provenance": [],
      "collapsed_sections": []
    },
    "kernelspec": {
      "name": "python3",
      "display_name": "Python 3"
    },
    "language_info": {
      "name": "python"
    }
  },
  "cells": [
    {
      "cell_type": "code",
      "metadata": {
        "colab": {
          "base_uri": "https://localhost:8080/"
        },
        "id": "WfrQ34Z3E0Qv",
        "outputId": "6ee31624-b262-4fac-bfa5-7afd910fae17"
      },
      "source": [
        "import os\n",
        "# Find the latest version of spark 3.0  from http://www-us.apache.org/dist/spark/ and enter as the spark version\n",
        "# For example:\n",
        "# spark_version = 'spark-3.0.2'\n",
        "spark_version = 'spark-3.1.2'\n",
        "os.environ['SPARK_VERSION']=spark_version\n",
        "\n",
        "# Install Spark and Java\n",
        "!apt-get update\n",
        "!apt-get install openjdk-11-jdk-headless -qq > /dev/null\n",
        "!wget -q http://www-us.apache.org/dist/spark/$SPARK_VERSION/$SPARK_VERSION-bin-hadoop2.7.tgz\n",
        "!tar xf $SPARK_VERSION-bin-hadoop2.7.tgz\n",
        "!pip install -q findspark\n",
        "\n",
        "# Set Environment Variables\n",
        "import os\n",
        "os.environ[\"JAVA_HOME\"] = \"/usr/lib/jvm/java-11-openjdk-amd64\"\n",
        "os.environ[\"SPARK_HOME\"] = f\"/content/{spark_version}-bin-hadoop2.7\"\n",
        "\n",
        "# Start a SparkSession\n",
        "import findspark\n",
        "findspark.init()"
      ],
      "execution_count": 27,
      "outputs": [
        {
          "output_type": "stream",
          "text": [
            "\r0% [Working]\r            \rGet:1 http://security.ubuntu.com/ubuntu bionic-security InRelease [88.7 kB]\n",
            "\r0% [Connecting to archive.ubuntu.com (91.189.88.142)] [1 InRelease 14.2 kB/88.7\r                                                                               \rHit:2 https://cloud.r-project.org/bin/linux/ubuntu bionic-cran40/ InRelease\n",
            "\r0% [Connecting to archive.ubuntu.com (91.189.88.142)] [1 InRelease 22.9 kB/88.7\r0% [2 InRelease gpgv 3,626 B] [Connecting to archive.ubuntu.com (91.189.88.142)\r0% [2 InRelease gpgv 3,626 B] [Connecting to archive.ubuntu.com (91.189.88.142)\r                                                                               \rIgn:3 https://developer.download.nvidia.com/compute/cuda/repos/ubuntu1804/x86_64  InRelease\n",
            "\r                                                                               \r0% [2 InRelease gpgv 3,626 B] [Waiting for headers] [Waiting for headers]\r                                                                         \rHit:4 http://ppa.launchpad.net/c2d4u.team/c2d4u4.0+/ubuntu bionic InRelease\n",
            "\r0% [2 InRelease gpgv 3,626 B] [Waiting for headers] [Connecting to ppa.launchpa\r                                                                               \rHit:5 http://archive.ubuntu.com/ubuntu bionic InRelease\n",
            "\r0% [2 InRelease gpgv 3,626 B] [Waiting for headers] [Connecting to ppa.launchpa\r                                                                               \rIgn:6 https://developer.download.nvidia.com/compute/machine-learning/repos/ubuntu1804/x86_64  InRelease\n",
            "Hit:7 https://developer.download.nvidia.com/compute/cuda/repos/ubuntu1804/x86_64  Release\n",
            "Hit:8 https://developer.download.nvidia.com/compute/machine-learning/repos/ubuntu1804/x86_64  Release\n",
            "Get:9 http://archive.ubuntu.com/ubuntu bionic-updates InRelease [88.7 kB]\n",
            "Hit:10 http://ppa.launchpad.net/cran/libgit2/ubuntu bionic InRelease\n",
            "Hit:11 http://ppa.launchpad.net/deadsnakes/ppa/ubuntu bionic InRelease\n",
            "Get:12 http://archive.ubuntu.com/ubuntu bionic-backports InRelease [74.6 kB]\n",
            "Hit:13 http://ppa.launchpad.net/graphics-drivers/ppa/ubuntu bionic InRelease\n",
            "Get:16 http://archive.ubuntu.com/ubuntu bionic-updates/main amd64 Packages [2,619 kB]\n",
            "Fetched 2,871 kB in 2s (1,229 kB/s)\n",
            "Reading package lists... Done\n"
          ],
          "name": "stdout"
        }
      ]
    },
    {
      "cell_type": "code",
      "metadata": {
        "colab": {
          "base_uri": "https://localhost:8080/"
        },
        "id": "Uq0FOgKGGHU-",
        "outputId": "4ec91891-f52f-478a-fb2c-7b7825fea0c1"
      },
      "source": [
        "# Download the Postgres driver that will allow Spark to interact with Postgres.\n",
        "!wget https://jdbc.postgresql.org/download/postgresql-42.2.16.jar"
      ],
      "execution_count": 28,
      "outputs": [
        {
          "output_type": "stream",
          "text": [
            "--2021-06-20 15:24:23--  https://jdbc.postgresql.org/download/postgresql-42.2.16.jar\n",
            "Resolving jdbc.postgresql.org (jdbc.postgresql.org)... 72.32.157.228, 2001:4800:3e1:1::228\n",
            "Connecting to jdbc.postgresql.org (jdbc.postgresql.org)|72.32.157.228|:443... connected.\n",
            "HTTP request sent, awaiting response... 200 OK\n",
            "Length: 1002883 (979K) [application/java-archive]\n",
            "Saving to: ‘postgresql-42.2.16.jar.2’\n",
            "\n",
            "postgresql-42.2.16. 100%[===================>] 979.38K  5.79MB/s    in 0.2s    \n",
            "\n",
            "2021-06-20 15:24:24 (5.79 MB/s) - ‘postgresql-42.2.16.jar.2’ saved [1002883/1002883]\n",
            "\n"
          ],
          "name": "stdout"
        }
      ]
    },
    {
      "cell_type": "code",
      "metadata": {
        "id": "xyswlgqZKaaO"
      },
      "source": [
        "from pyspark.sql import SparkSession\n",
        "spark = SparkSession.builder.appName(\"BigData-Challenge\").config(\"spark.driver.extraClassPath\",\"/content/postgresql-42.2.16.jar\").getOrCreate()"
      ],
      "execution_count": 34,
      "outputs": []
    },
    {
      "cell_type": "code",
      "metadata": {
        "colab": {
          "base_uri": "https://localhost:8080/"
        },
        "id": "GfNedZmULV8E",
        "outputId": "62881464-e7bb-4818-a6a8-1ed07f2db666"
      },
      "source": [
        "from pyspark import SparkFiles\n",
        "url = \"https://s3.amazonaws.com/amazon-reviews-pds/tsv/amazon_reviews_us_Camera_v1_00.tsv.gz\"\n",
        "spark.sparkContext.addFile(url)\n",
        "df = spark.read.option(\"encoding\", \"UTF-8\").csv(SparkFiles.get(\"\"), sep=\"\\t\", header=True, inferSchema=True)\n",
        "df.show()"
      ],
      "execution_count": 35,
      "outputs": [
        {
          "output_type": "stream",
          "text": [
            "+-----------+-----------+--------------+----------+--------------+--------------------+----------------+-----------+-------------+-----------+----+-----------------+--------------------+--------------------+-----------+\n",
            "|marketplace|customer_id|     review_id|product_id|product_parent|       product_title|product_category|star_rating|helpful_votes|total_votes|vine|verified_purchase|     review_headline|         review_body|review_date|\n",
            "+-----------+-----------+--------------+----------+--------------+--------------------+----------------+-----------+-------------+-----------+----+-----------------+--------------------+--------------------+-----------+\n",
            "|         US|    2975964|R1NBG94582SJE2|B00I01JQJM|     860486164|GoPro Rechargeabl...|          Camera|          5|            0|          0|   N|                Y|          Five Stars|                  ok| 2015-08-31|\n",
            "|         US|   23526356|R273DCA6Y0H9V7|B00TCO0ZAA|     292641483|Professional 58mm...|          Camera|          5|            0|          0|   N|                Y|          Love it!!!|Perfect, even stu...| 2015-08-31|\n",
            "|         US|   52764145| RQVOXO7WUOFK6|B00B7733E0|      75825744|Spy Tec Z12 Motio...|          Camera|          2|            1|          1|   N|                Y|Another Motion De...|If the words, &#3...| 2015-08-31|\n",
            "|         US|   47348933|R1KWKSF21PO6HO|B006ZN4U34|     789352955|Celestron UpClose...|          Camera|          5|            0|          0|   N|                Y|Exactly what I wa...|Exactly what I wa...| 2015-08-31|\n",
            "|         US|   33680700|R38H3UO1J190GI|B00HUEBGMU|      19067902|Vidpro XM-L Wired...|          Camera|          5|            1|          1|   N|                Y|Good mic at a Goo...|I will look past ...| 2015-08-31|\n",
            "|         US|   30301059|R3NPIFKLR19NQA|B008MW6Y12|     597683407|NIX 8 inch Hi-Res...|          Camera|          3|            0|          0|   N|                Y|The controls are ...|The controls are ...| 2015-08-31|\n",
            "|         US|   28282645|R3MBE6UCH3435E|B00TE8XKIS|      35563334|Polaroid ZIP Mobi...|          Camera|          3|            8|          8|   N|                N|Fun toy for makin...|The printer came ...| 2015-08-31|\n",
            "|         US|     502818|R2E7A4FF0PVY5Q|B00ZKDUFBQ|     555190742|GeekPro 2.0-Inch ...|          Camera|          5|            0|          1|   N|                Y|          Five Stars|Great camera for ...| 2015-08-31|\n",
            "|         US|    1481233| R3R8JDQ2BF4NM|B010BZ7S2Q|     129544315|Sony HDR-AZ1VR Ac...|          Camera|          5|            0|          2|   N|                Y|          Five Stars|Product is very g...| 2015-08-31|\n",
            "|         US|   27885926|R1YND4BS823GN5|B00HRXSSRA|     708418657|ChiliPower DMW-BL...|          Camera|          1|            0|          0|   N|                Y|              Sucky.|Lasted a few hour...| 2015-08-31|\n",
            "|         US|    3183883|R2TZNSA18V7YF6|B005C95NM4|     246957815|Zeikos Deluxe Fla...|          Camera|          4|            1|          1|   N|                Y|Hand Hold Bracket...|I needed the flas...| 2015-08-31|\n",
            "|         US|   23208852|R22ZVRDPPXIDNL|B00LBIBYBE|     746593019|  GoPro Hero Filters|          Camera|          5|            0|          0|   N|                Y|          Five Stars|Use these all the...| 2015-08-31|\n",
            "|         US|   11438825|R1F4O6WOO2W461|B00X3HIM2U|     444991975|Neewer Meike MK-X...|          Camera|          3|            3|          3|   N|                Y|Can't grip the ba...|Same issue as oth...| 2015-08-31|\n",
            "|         US|   50399582| RT1KLS3QSJNUT|B00KDVQF8W|     304104050|LB Photography Ba...|          Camera|          5|            4|          4|   N|                Y|Super pleased wit...|Super pleased wit...| 2015-08-31|\n",
            "|         US|   36700181|R222VYJL5K5IRS|B00GUZEZL4|     472875794|Waterproof Camera...|          Camera|          5|            0|          0|   N|                Y|    Excellent value!|These float wrist...| 2015-08-31|\n",
            "|         US|   47818374|R31LUR7M4PQOLU|B00FB1TBKS|     710827451|Ecolink Z-Wave PI...|          Camera|          5|            0|          0|   N|                Y|       great product|very good on batt...| 2015-08-31|\n",
            "|         US|   35272750|R1OD3T3Q042LUQ|B00GVMLPT6|     269896170|FotoTech Male to ...|          Camera|          2|            0|          0|   N|                Y|           Two Stars|im not happy, the...| 2015-08-31|\n",
            "|         US|   11736306|R2QT68OZTT2YKE|B00L8827BI|     145946775|Nikon D3200 Ultim...|          Camera|          5|            0|          0|   N|                Y|          Five Stars|It is a very good...| 2015-08-31|\n",
            "|         US|   52377008| RMFQF59FG3TD1|B00SIM78R0|     972011051|D-Link Wireless D...|          Camera|          4|            0|          0|   N|                Y|Nice camera, not ...|Nice camera for t...| 2015-08-31|\n",
            "|         US|    6465510|R1QNYFW6G31R5T|B00EDCZKJ2|     258297575|ZINK Phone Photo ...|          Camera|          1|            1|          3|   N|                N|        Never Agian.|If I could leave ...| 2015-08-31|\n",
            "+-----------+-----------+--------------+----------+--------------+--------------------+----------------+-----------+-------------+-----------+----+-----------------+--------------------+--------------------+-----------+\n",
            "only showing top 20 rows\n",
            "\n"
          ],
          "name": "stdout"
        }
      ]
    },
    {
      "cell_type": "code",
      "metadata": {
        "colab": {
          "base_uri": "https://localhost:8080/"
        },
        "id": "LupIWyc-Lf7V",
        "outputId": "0cd2cb5f-fa4a-414b-b014-e22bb7389b7f"
      },
      "source": [
        "# Create the vine_table. DataFrame\n",
        "vine_df = df.select(['review_id','star_rating','helpful_votes','total_votes','vine','verified_purchase'])\n",
        "vine_df.show()"
      ],
      "execution_count": 36,
      "outputs": [
        {
          "output_type": "stream",
          "text": [
            "+--------------+-----------+-------------+-----------+----+-----------------+\n",
            "|     review_id|star_rating|helpful_votes|total_votes|vine|verified_purchase|\n",
            "+--------------+-----------+-------------+-----------+----+-----------------+\n",
            "|R1NBG94582SJE2|          5|            0|          0|   N|                Y|\n",
            "|R273DCA6Y0H9V7|          5|            0|          0|   N|                Y|\n",
            "| RQVOXO7WUOFK6|          2|            1|          1|   N|                Y|\n",
            "|R1KWKSF21PO6HO|          5|            0|          0|   N|                Y|\n",
            "|R38H3UO1J190GI|          5|            1|          1|   N|                Y|\n",
            "|R3NPIFKLR19NQA|          3|            0|          0|   N|                Y|\n",
            "|R3MBE6UCH3435E|          3|            8|          8|   N|                N|\n",
            "|R2E7A4FF0PVY5Q|          5|            0|          1|   N|                Y|\n",
            "| R3R8JDQ2BF4NM|          5|            0|          2|   N|                Y|\n",
            "|R1YND4BS823GN5|          1|            0|          0|   N|                Y|\n",
            "|R2TZNSA18V7YF6|          4|            1|          1|   N|                Y|\n",
            "|R22ZVRDPPXIDNL|          5|            0|          0|   N|                Y|\n",
            "|R1F4O6WOO2W461|          3|            3|          3|   N|                Y|\n",
            "| RT1KLS3QSJNUT|          5|            4|          4|   N|                Y|\n",
            "|R222VYJL5K5IRS|          5|            0|          0|   N|                Y|\n",
            "|R31LUR7M4PQOLU|          5|            0|          0|   N|                Y|\n",
            "|R1OD3T3Q042LUQ|          2|            0|          0|   N|                Y|\n",
            "|R2QT68OZTT2YKE|          5|            0|          0|   N|                Y|\n",
            "| RMFQF59FG3TD1|          4|            0|          0|   N|                Y|\n",
            "|R1QNYFW6G31R5T|          1|            1|          3|   N|                N|\n",
            "+--------------+-----------+-------------+-----------+----+-----------------+\n",
            "only showing top 20 rows\n",
            "\n"
          ],
          "name": "stdout"
        }
      ]
    },
    {
      "cell_type": "code",
      "metadata": {
        "colab": {
          "base_uri": "https://localhost:8080/"
        },
        "id": "OICU7-87fJ3H",
        "outputId": "527fceee-462b-4c2e-f7b1-4b95e83d5778"
      },
      "source": [
        "# Step 1\n",
        "df1 = vine_df.filter('total_votes>=20')\n",
        "df1.show()"
      ],
      "execution_count": 37,
      "outputs": [
        {
          "output_type": "stream",
          "text": [
            "+--------------+-----------+-------------+-----------+----+-----------------+\n",
            "|     review_id|star_rating|helpful_votes|total_votes|vine|verified_purchase|\n",
            "+--------------+-----------+-------------+-----------+----+-----------------+\n",
            "|R3FJ319XA6ZAUQ|          2|           21|         25|   N|                Y|\n",
            "| R6HRF25HUMIIE|          5|           24|         24|   N|                Y|\n",
            "|R2CTAK3APOFKZU|          5|           37|         38|   N|                N|\n",
            "|R1WQZB0CAEPQBU|          2|           85|        128|   N|                N|\n",
            "| RHZDSA48HVRVK|          5|           49|         86|   N|                N|\n",
            "|R190J2PDOZ5GVK|          3|           36|         51|   N|                Y|\n",
            "|R1WZSWWOTN58OP|          5|           73|         77|   N|                Y|\n",
            "|R3EM8C9CKA6GPK|          2|           41|        115|   N|                N|\n",
            "|R29THVJFO35FZA|          5|           48|         50|   N|                Y|\n",
            "|R3V8FKXIHBLWEL|          5|           91|        108|   N|                Y|\n",
            "|R3JIIPQ8F0P7QS|          4|           22|         23|   N|                Y|\n",
            "|R3T9SAE2GZ2CN8|          5|           24|         28|   N|                Y|\n",
            "|R2O9VZEU64LFXH|          4|          115|        136|   N|                Y|\n",
            "|R3NET50AD1HMUD|          3|           27|         32|   N|                Y|\n",
            "| R79ZW8DU56QV6|          1|           43|         47|   N|                N|\n",
            "| RQN1N103PBM22|          1|           61|         69|   N|                Y|\n",
            "|R28VHGS18B0YXC|          5|           35|         42|   N|                N|\n",
            "|R3BWM499VCMGS7|          5|           48|         52|   N|                Y|\n",
            "|R36SDHRTJ9VEM8|          5|           32|         34|   N|                N|\n",
            "|R2ILOJ2MACX1GM|          5|           37|         63|   N|                N|\n",
            "+--------------+-----------+-------------+-----------+----+-----------------+\n",
            "only showing top 20 rows\n",
            "\n"
          ],
          "name": "stdout"
        }
      ]
    },
    {
      "cell_type": "code",
      "metadata": {
        "colab": {
          "base_uri": "https://localhost:8080/"
        },
        "id": "onP9CnNSfftT",
        "outputId": "19b95327-d19a-410b-fc37-f46501fa39e8"
      },
      "source": [
        "# Step 2.1\n",
        "math = df1.withColumn('ratio',df1['helpful_votes'] / df1['total_votes'])\n",
        "math.show()"
      ],
      "execution_count": 67,
      "outputs": [
        {
          "output_type": "stream",
          "text": [
            "+--------------+-----------+-------------+-----------+----+-----------------+------------------+\n",
            "|     review_id|star_rating|helpful_votes|total_votes|vine|verified_purchase|             ratio|\n",
            "+--------------+-----------+-------------+-----------+----+-----------------+------------------+\n",
            "|R3FJ319XA6ZAUQ|          2|           21|         25|   N|                Y|              0.84|\n",
            "| R6HRF25HUMIIE|          5|           24|         24|   N|                Y|               1.0|\n",
            "|R2CTAK3APOFKZU|          5|           37|         38|   N|                N|0.9736842105263158|\n",
            "|R1WQZB0CAEPQBU|          2|           85|        128|   N|                N|         0.6640625|\n",
            "| RHZDSA48HVRVK|          5|           49|         86|   N|                N|0.5697674418604651|\n",
            "|R190J2PDOZ5GVK|          3|           36|         51|   N|                Y|0.7058823529411765|\n",
            "|R1WZSWWOTN58OP|          5|           73|         77|   N|                Y| 0.948051948051948|\n",
            "|R3EM8C9CKA6GPK|          2|           41|        115|   N|                N|0.3565217391304348|\n",
            "|R29THVJFO35FZA|          5|           48|         50|   N|                Y|              0.96|\n",
            "|R3V8FKXIHBLWEL|          5|           91|        108|   N|                Y|0.8425925925925926|\n",
            "|R3JIIPQ8F0P7QS|          4|           22|         23|   N|                Y|0.9565217391304348|\n",
            "|R3T9SAE2GZ2CN8|          5|           24|         28|   N|                Y|0.8571428571428571|\n",
            "|R2O9VZEU64LFXH|          4|          115|        136|   N|                Y|0.8455882352941176|\n",
            "|R3NET50AD1HMUD|          3|           27|         32|   N|                Y|           0.84375|\n",
            "| R79ZW8DU56QV6|          1|           43|         47|   N|                N|0.9148936170212766|\n",
            "| RQN1N103PBM22|          1|           61|         69|   N|                Y|0.8840579710144928|\n",
            "|R28VHGS18B0YXC|          5|           35|         42|   N|                N|0.8333333333333334|\n",
            "|R3BWM499VCMGS7|          5|           48|         52|   N|                Y|0.9230769230769231|\n",
            "|R36SDHRTJ9VEM8|          5|           32|         34|   N|                N|0.9411764705882353|\n",
            "|R2ILOJ2MACX1GM|          5|           37|         63|   N|                N|0.5873015873015873|\n",
            "+--------------+-----------+-------------+-----------+----+-----------------+------------------+\n",
            "only showing top 20 rows\n",
            "\n"
          ],
          "name": "stdout"
        }
      ]
    },
    {
      "cell_type": "code",
      "metadata": {
        "colab": {
          "base_uri": "https://localhost:8080/"
        },
        "id": "j3Y9NfqqHpIb",
        "outputId": "69321ddf-c524-4692-c165-883e29972eee"
      },
      "source": [
        "# Step 2.2\n",
        "df2 = math.filter(\"ratio>=0.5\")\n",
        "df2.show()"
      ],
      "execution_count": 64,
      "outputs": [
        {
          "output_type": "stream",
          "text": [
            "+--------------+-----------+-------------+-----------+----+-----------------+------------------+\n",
            "|     review_id|star_rating|helpful_votes|total_votes|vine|verified_purchase|             ratio|\n",
            "+--------------+-----------+-------------+-----------+----+-----------------+------------------+\n",
            "|R3FJ319XA6ZAUQ|          2|           21|         25|   N|                Y|              0.84|\n",
            "| R6HRF25HUMIIE|          5|           24|         24|   N|                Y|               1.0|\n",
            "|R2CTAK3APOFKZU|          5|           37|         38|   N|                N|0.9736842105263158|\n",
            "|R1WQZB0CAEPQBU|          2|           85|        128|   N|                N|         0.6640625|\n",
            "| RHZDSA48HVRVK|          5|           49|         86|   N|                N|0.5697674418604651|\n",
            "|R190J2PDOZ5GVK|          3|           36|         51|   N|                Y|0.7058823529411765|\n",
            "|R1WZSWWOTN58OP|          5|           73|         77|   N|                Y| 0.948051948051948|\n",
            "|R29THVJFO35FZA|          5|           48|         50|   N|                Y|              0.96|\n",
            "|R3V8FKXIHBLWEL|          5|           91|        108|   N|                Y|0.8425925925925926|\n",
            "|R3JIIPQ8F0P7QS|          4|           22|         23|   N|                Y|0.9565217391304348|\n",
            "|R3T9SAE2GZ2CN8|          5|           24|         28|   N|                Y|0.8571428571428571|\n",
            "|R2O9VZEU64LFXH|          4|          115|        136|   N|                Y|0.8455882352941176|\n",
            "|R3NET50AD1HMUD|          3|           27|         32|   N|                Y|           0.84375|\n",
            "| R79ZW8DU56QV6|          1|           43|         47|   N|                N|0.9148936170212766|\n",
            "| RQN1N103PBM22|          1|           61|         69|   N|                Y|0.8840579710144928|\n",
            "|R28VHGS18B0YXC|          5|           35|         42|   N|                N|0.8333333333333334|\n",
            "|R3BWM499VCMGS7|          5|           48|         52|   N|                Y|0.9230769230769231|\n",
            "|R36SDHRTJ9VEM8|          5|           32|         34|   N|                N|0.9411764705882353|\n",
            "|R2ILOJ2MACX1GM|          5|           37|         63|   N|                N|0.5873015873015873|\n",
            "|R2C9SAXAPMNSAI|          5|           44|         47|   N|                N|0.9361702127659575|\n",
            "+--------------+-----------+-------------+-----------+----+-----------------+------------------+\n",
            "only showing top 20 rows\n",
            "\n"
          ],
          "name": "stdout"
        }
      ]
    },
    {
      "cell_type": "code",
      "metadata": {
        "colab": {
          "base_uri": "https://localhost:8080/"
        },
        "id": "aDqbSLIyI-vT",
        "outputId": "c891bd07-3485-4b5a-8ec9-ca54a1c72928"
      },
      "source": [
        "# Step 3.1 - count of Vine reviews\n",
        "df3 = df2.filter('vine=\"Y\"').show()\n",
        "df3 = df2.filter('vine=\"Y\"')"
      ],
      "execution_count": 125,
      "outputs": [
        {
          "output_type": "stream",
          "text": [
            "+--------------+-----------+-------------+-----------+----+-----------------+------------------+\n",
            "|     review_id|star_rating|helpful_votes|total_votes|vine|verified_purchase|             ratio|\n",
            "+--------------+-----------+-------------+-----------+----+-----------------+------------------+\n",
            "|R37L6YZDX0P3J9|          1|           28|         35|   Y|                N|               0.8|\n",
            "|R2JT4XRQO2KASL|          5|           38|         41|   Y|                N| 0.926829268292683|\n",
            "|R10XRAOBFFSTL2|          5|           44|         47|   Y|                N|0.9361702127659575|\n",
            "| R1X8F3R1K1SF5|          2|           30|         31|   Y|                N| 0.967741935483871|\n",
            "|R326QV66CKBB43|          4|          127|        139|   Y|                N|0.9136690647482014|\n",
            "| RGXLFTR31J561|          5|           29|         34|   Y|                N|0.8529411764705882|\n",
            "|R2ZS3WCJYUDQH0|          3|          101|        115|   Y|                N|0.8782608695652174|\n",
            "|R31771VBPRDVJS|          4|           75|         83|   Y|                N|0.9036144578313253|\n",
            "| R8O8KM73GO190|          5|           21|         28|   Y|                N|              0.75|\n",
            "| RPU1GURA1NOT0|          5|           33|         35|   Y|                N|0.9428571428571428|\n",
            "|R1LSBTTOR7MC2T|          5|          364|        373|   Y|                N|0.9758713136729222|\n",
            "|R3M6G50741A8BZ|          5|           24|         30|   Y|                N|               0.8|\n",
            "|R23USDQ7OW3CWH|          5|           58|         65|   Y|                N|0.8923076923076924|\n",
            "|R21XG60MOE370I|          5|           95|        105|   Y|                N|0.9047619047619048|\n",
            "|R38IT6Q7UDG0AC|          5|           52|         65|   Y|                N|               0.8|\n",
            "|R1ZNRVVBZEZPMT|          2|           64|         74|   Y|                N|0.8648648648648649|\n",
            "|R2UJ5PT023G3XU|          4|           29|         38|   Y|                N|0.7631578947368421|\n",
            "|R2ZUSNUDLAG4HR|          5|           20|         23|   Y|                N|0.8695652173913043|\n",
            "| RYCSFTDYMJCXV|          2|           52|         60|   Y|                N|0.8666666666666667|\n",
            "|R2NKND0YUD25RE|          5|           39|         41|   Y|                N|0.9512195121951219|\n",
            "+--------------+-----------+-------------+-----------+----+-----------------+------------------+\n",
            "only showing top 20 rows\n",
            "\n"
          ],
          "name": "stdout"
        }
      ]
    },
    {
      "cell_type": "code",
      "metadata": {
        "colab": {
          "base_uri": "https://localhost:8080/"
        },
        "id": "R33YUJlYdDx5",
        "outputId": "afbea3e4-3ea5-48ed-8e5d-2d0147712a1e"
      },
      "source": [
        "# Step 3.2 - count of Vine reviews\n",
        "r_vine = df3.count()\n",
        "r_vine"
      ],
      "execution_count": 134,
      "outputs": [
        {
          "output_type": "execute_result",
          "data": {
            "text/plain": [
              "607"
            ]
          },
          "metadata": {
            "tags": []
          },
          "execution_count": 134
        }
      ]
    },
    {
      "cell_type": "code",
      "metadata": {
        "colab": {
          "base_uri": "https://localhost:8080/"
        },
        "id": "Kvz2A8skdYjO",
        "outputId": "24efcb2c-c268-49b0-e44e-94e10a4baccd"
      },
      "source": [
        "# Step 3.3 - 5 star vine reviews\n",
        "fivestarpaid = df3.filter('star_rating=5').count()\n",
        "fivestarpaid"
      ],
      "execution_count": 128,
      "outputs": [
        {
          "output_type": "execute_result",
          "data": {
            "text/plain": [
              "257"
            ]
          },
          "metadata": {
            "tags": []
          },
          "execution_count": 128
        }
      ]
    },
    {
      "cell_type": "code",
      "metadata": {
        "colab": {
          "base_uri": "https://localhost:8080/"
        },
        "id": "BEb5XyCuJg3L",
        "outputId": "7b2360fb-dfe5-455f-bf8f-938fee61f37e"
      },
      "source": [
        "# Step 4.1 - count of non Vine reviews\n",
        "df4 = df2.filter('vine=\"N\"').show()\n",
        "df4 = df2.filter('vine=\"N\"')"
      ],
      "execution_count": 130,
      "outputs": [
        {
          "output_type": "stream",
          "text": [
            "+--------------+-----------+-------------+-----------+----+-----------------+------------------+\n",
            "|     review_id|star_rating|helpful_votes|total_votes|vine|verified_purchase|             ratio|\n",
            "+--------------+-----------+-------------+-----------+----+-----------------+------------------+\n",
            "|R3FJ319XA6ZAUQ|          2|           21|         25|   N|                Y|              0.84|\n",
            "| R6HRF25HUMIIE|          5|           24|         24|   N|                Y|               1.0|\n",
            "|R2CTAK3APOFKZU|          5|           37|         38|   N|                N|0.9736842105263158|\n",
            "|R1WQZB0CAEPQBU|          2|           85|        128|   N|                N|         0.6640625|\n",
            "| RHZDSA48HVRVK|          5|           49|         86|   N|                N|0.5697674418604651|\n",
            "|R190J2PDOZ5GVK|          3|           36|         51|   N|                Y|0.7058823529411765|\n",
            "|R1WZSWWOTN58OP|          5|           73|         77|   N|                Y| 0.948051948051948|\n",
            "|R29THVJFO35FZA|          5|           48|         50|   N|                Y|              0.96|\n",
            "|R3V8FKXIHBLWEL|          5|           91|        108|   N|                Y|0.8425925925925926|\n",
            "|R3JIIPQ8F0P7QS|          4|           22|         23|   N|                Y|0.9565217391304348|\n",
            "|R3T9SAE2GZ2CN8|          5|           24|         28|   N|                Y|0.8571428571428571|\n",
            "|R2O9VZEU64LFXH|          4|          115|        136|   N|                Y|0.8455882352941176|\n",
            "|R3NET50AD1HMUD|          3|           27|         32|   N|                Y|           0.84375|\n",
            "| R79ZW8DU56QV6|          1|           43|         47|   N|                N|0.9148936170212766|\n",
            "| RQN1N103PBM22|          1|           61|         69|   N|                Y|0.8840579710144928|\n",
            "|R28VHGS18B0YXC|          5|           35|         42|   N|                N|0.8333333333333334|\n",
            "|R3BWM499VCMGS7|          5|           48|         52|   N|                Y|0.9230769230769231|\n",
            "|R36SDHRTJ9VEM8|          5|           32|         34|   N|                N|0.9411764705882353|\n",
            "|R2ILOJ2MACX1GM|          5|           37|         63|   N|                N|0.5873015873015873|\n",
            "|R2C9SAXAPMNSAI|          5|           44|         47|   N|                N|0.9361702127659575|\n",
            "+--------------+-----------+-------------+-----------+----+-----------------+------------------+\n",
            "only showing top 20 rows\n",
            "\n"
          ],
          "name": "stdout"
        }
      ]
    },
    {
      "cell_type": "code",
      "metadata": {
        "colab": {
          "base_uri": "https://localhost:8080/"
        },
        "id": "lcFrZWUvdqGF",
        "outputId": "7bff8b05-2048-4c95-be4b-914be4b2007c"
      },
      "source": [
        "# Step 4.2 - count of non Vine reviews\n",
        "non_vine = df4.count()\n",
        "non_vine"
      ],
      "execution_count": 135,
      "outputs": [
        {
          "output_type": "execute_result",
          "data": {
            "text/plain": [
              "50522"
            ]
          },
          "metadata": {
            "tags": []
          },
          "execution_count": 135
        }
      ]
    },
    {
      "cell_type": "code",
      "metadata": {
        "colab": {
          "base_uri": "https://localhost:8080/"
        },
        "id": "Z45d5YpJQIdW",
        "outputId": "c4f93da4-2beb-4ada-ce26-29707a2667cb"
      },
      "source": [
        "# Step 4.3 - 5 star non vine reviews\n",
        "fivestarunpaid = df4.filter('star_rating=5').count()\n",
        "fivestarunpaid"
      ],
      "execution_count": 132,
      "outputs": [
        {
          "output_type": "execute_result",
          "data": {
            "text/plain": [
              "25220"
            ]
          },
          "metadata": {
            "tags": []
          },
          "execution_count": 132
        }
      ]
    },
    {
      "cell_type": "code",
      "metadata": {
        "colab": {
          "base_uri": "https://localhost:8080/"
        },
        "id": "dpMx8Zo-KSeC",
        "outputId": "6a9f2737-041b-4b41-8bce-6d1bc1691ff8"
      },
      "source": [
        "# Step 5.1 - total number of reviews\n",
        "total = df2.select('review_id').count()\n",
        "total"
      ],
      "execution_count": 108,
      "outputs": [
        {
          "output_type": "execute_result",
          "data": {
            "text/plain": [
              "51129"
            ]
          },
          "metadata": {
            "tags": []
          },
          "execution_count": 108
        }
      ]
    },
    {
      "cell_type": "code",
      "metadata": {
        "colab": {
          "base_uri": "https://localhost:8080/"
        },
        "id": "GZI2C9osLXB6",
        "outputId": "cec7a660-6e30-4227-c507-2d5b95cf4821"
      },
      "source": [
        "# Step 5.2 - number of 5 star reviews\n",
        "fivestar = df2.filter('star_rating=5').count()\n",
        "fivestar"
      ],
      "execution_count": 87,
      "outputs": [
        {
          "output_type": "execute_result",
          "data": {
            "text/plain": [
              "25477"
            ]
          },
          "metadata": {
            "tags": []
          },
          "execution_count": 87
        }
      ]
    },
    {
      "cell_type": "code",
      "metadata": {
        "colab": {
          "base_uri": "https://localhost:8080/"
        },
        "id": "dtzTYb11NMOI",
        "outputId": "01bb5049-0bb6-4158-c72b-230616355ac9"
      },
      "source": [
        "# Step 5.3 - number of 5 star Vine reviews\n",
        "p_paid = fivestarpaid / r_vine * 100\n",
        "p_paid"
      ],
      "execution_count": 136,
      "outputs": [
        {
          "output_type": "execute_result",
          "data": {
            "text/plain": [
              "42.33937397034596"
            ]
          },
          "metadata": {
            "tags": []
          },
          "execution_count": 136
        }
      ]
    },
    {
      "cell_type": "code",
      "metadata": {
        "colab": {
          "base_uri": "https://localhost:8080/"
        },
        "id": "znIUTU85R34m",
        "outputId": "ca1c1a96-7361-46e2-c31f-d9f9f1d7d195"
      },
      "source": [
        "# Step 5.4 - number of 5 star non Vine reviews\n",
        "p_unpaid = fivestarunpaid / non_vine * 100\n",
        "p_unpaid"
      ],
      "execution_count": 137,
      "outputs": [
        {
          "output_type": "execute_result",
          "data": {
            "text/plain": [
              "49.91884723486798"
            ]
          },
          "metadata": {
            "tags": []
          },
          "execution_count": 137
        }
      ]
    }
  ]
}